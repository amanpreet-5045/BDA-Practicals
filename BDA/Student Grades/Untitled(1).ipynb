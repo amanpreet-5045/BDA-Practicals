{
 "cells": [
  {
   "cell_type": "code",
   "execution_count": 11,
   "id": "c7482946",
   "metadata": {},
   "outputs": [
    {
     "name": "stdout",
     "output_type": "stream",
     "text": [
      "Student Grades: D\n"
     ]
    }
   ],
   "source": [
    "from itertools import groupby\n",
    "import csv\n",
    "\n",
    "def mapper(input_line):\n",
    "    # input_line: a line from the input file containing student name and score\n",
    "    student, score = input_line.strip().split(',')\n",
    "    yield int(score)  # Yield only the score as an integer\n",
    "\n",
    "def reducer(scores):\n",
    "    # scores: list of scores for the student\n",
    "    average_score = sum(scores) / len(scores)\n",
    "    if average_score >= 90:\n",
    "        grade = 'A'\n",
    "    elif average_score >= 80:\n",
    "        grade = 'B'\n",
    "    elif average_score >= 70:\n",
    "        grade = 'C'\n",
    "    elif average_score >= 60:\n",
    "        grade = 'D'\n",
    "    else:\n",
    "        grade = 'F'\n",
    "    return grade\n",
    "\n",
    "def map_reduce(input_file):\n",
    "    intermediate = []\n",
    "    with open(input_file, 'r') as file:\n",
    "        reader = csv.reader(file)\n",
    "        next(reader)  # Skip the header row\n",
    "        for row in reader:\n",
    "            intermediate.extend(mapper(','.join(row)))\n",
    "    intermediate.sort()  # Shuffle and sort\n",
    "    output = reducer(intermediate)\n",
    "    return output\n",
    "\n",
    "# Example usage\n",
    "input_file = 'student_scores.csv'  # Provide the path to your input file\n",
    "\n",
    "result = map_reduce(input_file)\n",
    "\n",
    "# Output the result\n",
    "print(\"Student Grades:\", result)\n"
   ]
  },
  {
   "cell_type": "code",
   "execution_count": null,
   "id": "fca70f43",
   "metadata": {},
   "outputs": [],
   "source": []
  }
 ],
 "metadata": {
  "kernelspec": {
   "display_name": "Python 3 (ipykernel)",
   "language": "python",
   "name": "python3"
  },
  "language_info": {
   "codemirror_mode": {
    "name": "ipython",
    "version": 3
   },
   "file_extension": ".py",
   "mimetype": "text/x-python",
   "name": "python",
   "nbconvert_exporter": "python",
   "pygments_lexer": "ipython3",
   "version": "3.9.13"
  }
 },
 "nbformat": 4,
 "nbformat_minor": 5
}
