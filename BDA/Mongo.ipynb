{
 "cells": [
  {
   "cell_type": "code",
   "execution_count": 1,
   "id": "0af4ec44",
   "metadata": {},
   "outputs": [
    {
     "name": "stdout",
     "output_type": "stream",
     "text": [
      "Requirement already satisfied: pymongo in c:\\users\\dell\\anaconda3\\lib\\site-packages (4.6.3)\n",
      "Requirement already satisfied: dnspython<3.0.0,>=1.16.0 in c:\\users\\dell\\anaconda3\\lib\\site-packages (from pymongo) (2.6.1)\n"
     ]
    }
   ],
   "source": [
    "!pip install pymongo"
   ]
  },
  {
   "cell_type": "code",
   "execution_count": 2,
   "id": "5793b3b0",
   "metadata": {},
   "outputs": [],
   "source": [
    "import pymongo"
   ]
  },
  {
   "cell_type": "code",
   "execution_count": 3,
   "id": "04e7b627",
   "metadata": {},
   "outputs": [],
   "source": [
    "client = pymongo.MongoClient(\"mongodb://localhost:27017/\")"
   ]
  },
  {
   "cell_type": "code",
   "execution_count": 4,
   "id": "2c67e2ca",
   "metadata": {},
   "outputs": [],
   "source": [
    "db = client[\"mydatabase\"]"
   ]
  },
  {
   "cell_type": "code",
   "execution_count": 5,
   "id": "bcc9e33a",
   "metadata": {},
   "outputs": [],
   "source": [
    "collection = db[\"mycollection\"]"
   ]
  },
  {
   "cell_type": "code",
   "execution_count": 6,
   "id": "ae5a6eae",
   "metadata": {},
   "outputs": [
    {
     "name": "stdout",
     "output_type": "stream",
     "text": [
      "Inserted document ID: 66270b158d099c446ebde9cf\n"
     ]
    }
   ],
   "source": [
    "document = {\"name\": \"John\", \"age\": 30, \"city\": \"New York\"}\n",
    "result = collection.insert_one(document)\n",
    "print(\"Inserted document ID:\", result.inserted_id)"
   ]
  },
  {
   "cell_type": "code",
   "execution_count": 18,
   "id": "55aedbdb",
   "metadata": {},
   "outputs": [
    {
     "name": "stdout",
     "output_type": "stream",
     "text": [
      "{'_id': ObjectId('66270b158d099c446ebde9cf'), 'name': 'John', 'age': 35, 'city': 'New York'}\n"
     ]
    }
   ],
   "source": [
    "query = {\"name\": \"John\"}\n",
    "result = collection.find(query)\n",
    "for doc in result:\n",
    "    print(doc)"
   ]
  },
  {
   "cell_type": "code",
   "execution_count": 17,
   "id": "152418a0",
   "metadata": {},
   "outputs": [
    {
     "data": {
      "text/plain": [
       "UpdateResult({'n': 1, 'nModified': 1, 'ok': 1.0, 'updatedExisting': True}, acknowledged=True)"
      ]
     },
     "execution_count": 17,
     "metadata": {},
     "output_type": "execute_result"
    }
   ],
   "source": [
    "query = {\"name\": \"John\"}\n",
    "new_values = {\"$set\": {\"age\": 35}}\n",
    "collection.update_one(query, new_values)"
   ]
  },
  {
   "cell_type": "code",
   "execution_count": 11,
   "id": "6ce8d7f5",
   "metadata": {},
   "outputs": [
    {
     "name": "stdout",
     "output_type": "stream",
     "text": [
      "Inserted document IDs: [ObjectId('66270b728d099c446ebde9d0'), ObjectId('66270b728d099c446ebde9d1'), ObjectId('66270b728d099c446ebde9d2')]\n"
     ]
    }
   ],
   "source": [
    "documents = [\n",
    "    {\"name\": \"Alice\", \"age\": 25, \"city\": \"Los Angeles\"},\n",
    "    {\"name\": \"Bob\", \"age\": 40, \"city\": \"Chicago\"},\n",
    "    {\"name\": \"Charlie\", \"age\": 35, \"city\": \"San Francisco\"}\n",
    "]\n",
    "result = collection.insert_many(documents)\n",
    "print(\"Inserted document IDs:\", result.inserted_ids)"
   ]
  },
  {
   "cell_type": "code",
   "execution_count": 13,
   "id": "0c38f108",
   "metadata": {},
   "outputs": [
    {
     "name": "stdout",
     "output_type": "stream",
     "text": [
      "{'_id': ObjectId('66270b728d099c446ebde9d0'), 'name': 'Alice', 'age': 25, 'city': 'Los Angeles'}\n"
     ]
    }
   ],
   "source": [
    "query = {\"city\": \"Los Angeles\"}\n",
    "result = collection.find(query)\n",
    "for doc in result:\n",
    "    print(doc)"
   ]
  },
  {
   "cell_type": "code",
   "execution_count": 14,
   "id": "9c89052c",
   "metadata": {},
   "outputs": [
    {
     "name": "stdout",
     "output_type": "stream",
     "text": [
      "{'_id': ObjectId('66270b728d099c446ebde9d1'), 'name': 'Bob', 'age': 40, 'city': 'Chicago'}\n",
      "{'_id': ObjectId('66270b728d099c446ebde9d2'), 'name': 'Charlie', 'age': 35, 'city': 'San Francisco'}\n"
     ]
    }
   ],
   "source": [
    "query = {\"age\": {\"$gt\": 30}}  # Documents where age is greater than 30\n",
    "result = collection.find(query)\n",
    "for doc in result:\n",
    "    print(doc)"
   ]
  },
  {
   "cell_type": "code",
   "execution_count": 15,
   "id": "bbb88996",
   "metadata": {},
   "outputs": [
    {
     "name": "stdout",
     "output_type": "stream",
     "text": [
      "{'_id': ObjectId('66270b158d099c446ebde9cf'), 'name': 'John', 'age': 30, 'city': 'New York'}\n",
      "{'_id': ObjectId('66270b728d099c446ebde9d0'), 'name': 'Alice', 'age': 25, 'city': 'Los Angeles'}\n"
     ]
    }
   ],
   "source": [
    "result = collection.find().limit(2)  # Limit to 2 results\n",
    "for doc in result:\n",
    "    print(doc)"
   ]
  },
  {
   "cell_type": "code",
   "execution_count": 16,
   "id": "740c831c",
   "metadata": {},
   "outputs": [
    {
     "name": "stdout",
     "output_type": "stream",
     "text": [
      "{'_id': ObjectId('66270b728d099c446ebde9d0'), 'name': 'Alice', 'age': 25, 'city': 'Los Angeles'}\n",
      "{'_id': ObjectId('66270b158d099c446ebde9cf'), 'name': 'John', 'age': 30, 'city': 'New York'}\n",
      "{'_id': ObjectId('66270b728d099c446ebde9d2'), 'name': 'Charlie', 'age': 35, 'city': 'San Francisco'}\n",
      "{'_id': ObjectId('66270b728d099c446ebde9d1'), 'name': 'Bob', 'age': 40, 'city': 'Chicago'}\n"
     ]
    }
   ],
   "source": [
    "result = collection.find().sort(\"age\", pymongo.ASCENDING)  # Sort by age ascending\n",
    "for doc in result:\n",
    "    print(doc)"
   ]
  },
  {
   "cell_type": "code",
   "execution_count": null,
   "id": "9546253e",
   "metadata": {},
   "outputs": [],
   "source": []
  }
 ],
 "metadata": {
  "kernelspec": {
   "display_name": "Python 3 (ipykernel)",
   "language": "python",
   "name": "python3"
  },
  "language_info": {
   "codemirror_mode": {
    "name": "ipython",
    "version": 3
   },
   "file_extension": ".py",
   "mimetype": "text/x-python",
   "name": "python",
   "nbconvert_exporter": "python",
   "pygments_lexer": "ipython3",
   "version": "3.9.13"
  }
 },
 "nbformat": 4,
 "nbformat_minor": 5
}
