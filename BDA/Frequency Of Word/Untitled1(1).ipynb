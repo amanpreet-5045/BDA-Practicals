{
 "cells": [
  {
   "cell_type": "code",
   "execution_count": 1,
   "id": "f54346f7",
   "metadata": {},
   "outputs": [],
   "source": [
    "# Create a sample input file with some random text\n",
    "with open('sample.txt', 'w') as file:\n",
    "    file.write(\"An apple a day keeps the doctor away. I love apples. Apple is a delicious fruit.\")\n"
   ]
  },
  {
   "cell_type": "code",
   "execution_count": null,
   "id": "23963e5b",
   "metadata": {},
   "outputs": [],
   "source": [
    "input_file = 'sample.txt'  # Path to the sample input file\n",
    "target_word = 'apple'      # The word you want to find the frequency of\n",
    "\n",
    "word_count = map_reduce(input_file, target_word)\n",
    "print(f\"The frequency of '{target_word}' in the file is: {word_count.get(target_word, 0)}\")"
   ]
  }
 ],
 "metadata": {
  "kernelspec": {
   "display_name": "Python 3 (ipykernel)",
   "language": "python",
   "name": "python3"
  },
  "language_info": {
   "codemirror_mode": {
    "name": "ipython",
    "version": 3
   },
   "file_extension": ".py",
   "mimetype": "text/x-python",
   "name": "python",
   "nbconvert_exporter": "python",
   "pygments_lexer": "ipython3",
   "version": "3.9.13"
  }
 },
 "nbformat": 4,
 "nbformat_minor": 5
}
