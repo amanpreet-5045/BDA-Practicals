{
 "cells": [
  {
   "cell_type": "code",
   "execution_count": 1,
   "id": "be5a7faa",
   "metadata": {},
   "outputs": [
    {
     "name": "stdout",
     "output_type": "stream",
     "text": [
      "The frequency of 'apple' in the file is: 1\n"
     ]
    }
   ],
   "source": [
    "import os\n",
    "\n",
    "def mapper(input_file, target_word):\n",
    "    word_count = {}\n",
    "    with open(input_file, 'r') as file:\n",
    "        for line in file:\n",
    "            words = line.strip().split()\n",
    "            for word in words:\n",
    "                if word == target_word:\n",
    "                    yield word, 1\n",
    "\n",
    "def reducer(intermediate):\n",
    "    word_count = {}\n",
    "    for word, count in intermediate:\n",
    "        if word in word_count:\n",
    "            word_count[word] += count\n",
    "        else:\n",
    "            word_count[word] = count\n",
    "    return word_count\n",
    "\n",
    "def map_reduce(input_file, target_word):\n",
    "    intermediate = []\n",
    "    for key, value in mapper(input_file, target_word):\n",
    "        intermediate.append((key, value))\n",
    "    intermediate.sort()  # Shuffle and sort\n",
    "    word_count = reducer(intermediate)\n",
    "    return word_count\n",
    "\n",
    "# Example usage\n",
    "input_file = 'sample.txt'  # Provide the path to your input file\n",
    "target_word = 'apple'       # The word you want to find the frequency of\n",
    "\n",
    "word_count = map_reduce(input_file, target_word)\n",
    "print(f\"The frequency of '{target_word}' in the file is: {word_count.get(target_word, 0)}\")"
   ]
  },
  {
   "cell_type": "code",
   "execution_count": null,
   "id": "2d03afd2",
   "metadata": {},
   "outputs": [],
   "source": []
  }
 ],
 "metadata": {
  "kernelspec": {
   "display_name": "Python 3 (ipykernel)",
   "language": "python",
   "name": "python3"
  },
  "language_info": {
   "codemirror_mode": {
    "name": "ipython",
    "version": 3
   },
   "file_extension": ".py",
   "mimetype": "text/x-python",
   "name": "python",
   "nbconvert_exporter": "python",
   "pygments_lexer": "ipython3",
   "version": "3.9.13"
  }
 },
 "nbformat": 4,
 "nbformat_minor": 5
}
