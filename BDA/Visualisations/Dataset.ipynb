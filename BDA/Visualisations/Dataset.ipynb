{
 "cells": [
  {
   "cell_type": "code",
   "execution_count": 4,
   "id": "df6908f0",
   "metadata": {},
   "outputs": [
    {
     "name": "stdout",
     "output_type": "stream",
     "text": [
      "       Name   Age           City  Salary\n",
      "0      John   NaN       New York  500000\n",
      "1     Alice  25.0    Los Angeles   67345\n",
      "2       Bob  30.0            CHI  144321\n",
      "3   Charlie  40.0  San Francisco  124108\n",
      "4     David  30.0        Seattle   93349\n",
      "5      John  40.0       New York  141313\n",
      "6     Alice  35.0    Los Angeles   66147\n",
      "7       Bob  35.0        Chicago  120917\n",
      "8   Charlie  40.0  San Francisco  118658\n",
      "9     David   NaN        Seattle   95882\n",
      "10     John  35.0       New York   51662\n",
      "11    Alice  35.0        NewYork  101882\n",
      "12      Bob  35.0        Chicago  133923\n",
      "13  Charlie  40.0  San Francisco   49492\n",
      "14    David  40.0        Seattle   39764\n",
      "15     John  30.0       New York   52434\n",
      "16    Alice  30.0    Los Angeles   43552\n",
      "17      Bob  30.0        Chicago   45281\n",
      "18  Charlie  40.0  San Francisco  137204\n",
      "19    David  40.0        Seattle   82014\n",
      "20     John  25.0       New York   67817\n",
      "21    Alice  40.0    Los Angeles   66018\n",
      "22      Bob   NaN        Chicago  125604\n",
      "23  Charlie  35.0  San Francisco   60937\n",
      "24    David   NaN        Seattle  141284\n",
      "25     John  30.0       New York   84745\n",
      "26    Alice  35.0    Los Angeles   47590\n",
      "27      Bob  25.0        Chicago   49495\n",
      "28  Charlie  25.0  San Francisco   72794\n",
      "29    David  40.0        Seattle  111568\n",
      "30     John  25.0       New York   80453\n",
      "31    Alice   NaN    Los Angeles   86716\n",
      "32      Bob   NaN        Chicago   81907\n",
      "33  Charlie  35.0  San Francisco   30974\n",
      "34    David  30.0        Seattle   92594\n",
      "35     John  35.0       New York   80754\n",
      "36    Alice  40.0    Los Angeles   36173\n",
      "37      Bob  35.0        Chicago   33077\n",
      "38  Charlie  35.0  San Francisco  148946\n",
      "39    David  25.0        Seattle  135453\n",
      "40     John  30.0       New York  106942\n",
      "41    Alice  25.0    Los Angeles   74235\n",
      "42      Bob  35.0        Chicago  124570\n",
      "43  Charlie  25.0  San Francisco   79502\n",
      "44    David  40.0        Seattle   46602\n",
      "45     John   NaN       New York  107578\n",
      "46    Alice  35.0    Los Angeles   35288\n",
      "47      Bob  35.0        Chicago  145404\n",
      "48  Charlie  25.0  San Francisco   92551\n",
      "49    David  25.0        Seattle  147245\n"
     ]
    }
   ],
   "source": [
    "import pandas as pd\n",
    "import numpy as np\n",
    "\n",
    "# Create sample data with missing values, inconsistent formats, and outliers\n",
    "data = {\n",
    "    \"Name\": [\"John\", \"Alice\", \"Bob\", \"Charlie\", \"David\"] * 10,  # Repeat names to get 50 records\n",
    "    \"Age\": np.random.choice([25, 30, 35, 40, np.nan], size=50),  # Random ages with missing values\n",
    "    \"City\": [\"New York\", \"Los Angeles\", \"Chicago\", \"San Francisco\", \"Seattle\"] * 10,  # Repeat cities\n",
    "    \"Salary\": np.random.randint(30000, 150000, 50)  # Random salaries\n",
    "}\n",
    "\n",
    "# Add some inconsistent city names and outliers in salary\n",
    "data[\"City\"][2] = \"CHI\"\n",
    "data[\"City\"][11] = \"NewYork\"\n",
    "data[\"Salary\"][0] = 500000\n",
    "\n",
    "# Create DataFrame\n",
    "df = pd.DataFrame(data)\n",
    "\n",
    "# Display DataFrame\n",
    "print(df)"
   ]
  },
  {
   "cell_type": "code",
   "execution_count": 5,
   "id": "716e9b9a",
   "metadata": {},
   "outputs": [
    {
     "name": "stdout",
     "output_type": "stream",
     "text": [
      "Dataset saved successfully.\n"
     ]
    }
   ],
   "source": [
    "# Save DataFrame to CSV file\n",
    "df.to_csv(\"sample_dataset.csv\", index=False)\n",
    "\n",
    "print(\"Dataset saved successfully.\")"
   ]
  }
 ],
 "metadata": {
  "kernelspec": {
   "display_name": "Python 3 (ipykernel)",
   "language": "python",
   "name": "python3"
  },
  "language_info": {
   "codemirror_mode": {
    "name": "ipython",
    "version": 3
   },
   "file_extension": ".py",
   "mimetype": "text/x-python",
   "name": "python",
   "nbconvert_exporter": "python",
   "pygments_lexer": "ipython3",
   "version": "3.9.13"
  }
 },
 "nbformat": 4,
 "nbformat_minor": 5
}
