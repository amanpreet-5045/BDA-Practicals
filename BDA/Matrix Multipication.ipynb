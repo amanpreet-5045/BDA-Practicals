{
 "cells": [
  {
   "cell_type": "code",
   "execution_count": 1,
   "id": "5535e5ac",
   "metadata": {},
   "outputs": [],
   "source": [
    "from itertools import groupby\n",
    "\n",
    "def mapper(input_element):\n",
    "    # input_element: (i, j, value) for matrix A or (j, k, value) for matrix B\n",
    "    key, i, j, value = input_element\n",
    "    if key == 'A':\n",
    "        for k in range(N):\n",
    "            yield (i, k), (j, value)\n",
    "    else:\n",
    "        for k in range(N):\n",
    "            yield (k, j), (i, value)\n",
    "\n",
    "def reducer(key, values):\n",
    "    # key: (i, j)\n",
    "    # values: list of (index, value) tuples\n",
    "    result = 0\n",
    "    values_dict = dict(values)\n",
    "    for k in range(N):\n",
    "        result += values_dict.get(k, 0) * values_dict.get(k, 0)\n",
    "    return key, result\n",
    "\n",
    "def map_reduce(A, B, N):\n",
    "    intermediate = []\n",
    "    for i in range(N):\n",
    "        for j in range(N):\n",
    "            # Emit intermediate key-value pairs for matrix A\n",
    "            intermediate.extend(mapper(('A', i, j, A[i][j])))\n",
    "            # Emit intermediate key-value pairs for matrix B\n",
    "            intermediate.extend(mapper(('B', j, i, B[j][i])))\n",
    "    intermediate.sort()  # Shuffle and sort\n",
    "    output = [reducer(key, group) for key, group in groupby(intermediate, key=lambda x: x[0])]\n",
    "    return output\n",
    "\n"
   ]
  },
  {
   "cell_type": "code",
   "execution_count": 2,
   "id": "ffd73228",
   "metadata": {},
   "outputs": [
    {
     "name": "stdout",
     "output_type": "stream",
     "text": [
      "Result of matrix multiplication:\n",
      "((0, 0), 0)\n",
      "((0, 1), 0)\n",
      "((0, 2), 0)\n",
      "((1, 0), 0)\n",
      "((1, 1), 0)\n",
      "((1, 2), 0)\n",
      "((2, 0), 0)\n",
      "((2, 1), 0)\n",
      "((2, 2), 0)\n"
     ]
    }
   ],
   "source": [
    "# Example usage\n",
    "# Define input matrices A and B\n",
    "A = [[1, 2, 3],\n",
    "     [4, 5, 6],\n",
    "     [7, 8, 9]]\n",
    "\n",
    "B = [[9, 8, 7],\n",
    "     [6, 5, 4],\n",
    "     [3, 2, 1]]\n",
    "\n",
    "# Get the size of the matrices (NxN)\n",
    "N = len(A)\n",
    "\n",
    "# Perform matrix multiplication using MapReduce\n",
    "result = map_reduce(A, B, N)\n",
    "\n",
    "# Output the result\n",
    "print(\"Result of matrix multiplication:\")\n",
    "for row in result:\n",
    "    print(row)\n"
   ]
  },
  {
   "cell_type": "code",
   "execution_count": null,
   "id": "cd495546",
   "metadata": {},
   "outputs": [],
   "source": []
  }
 ],
 "metadata": {
  "kernelspec": {
   "display_name": "Java",
   "language": "python",
   "name": "java"
  },
  "language_info": {
   "codemirror_mode": {
    "name": "ipython",
    "version": 3
   },
   "file_extension": ".py",
   "mimetype": "text/x-python",
   "name": "python",
   "nbconvert_exporter": "python",
   "pygments_lexer": "ipython3",
   "version": "3.11.2"
  }
 },
 "nbformat": 4,
 "nbformat_minor": 5
}
